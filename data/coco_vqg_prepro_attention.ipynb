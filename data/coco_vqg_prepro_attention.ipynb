{
 "cells": [
  {
   "cell_type": "code",
   "execution_count": 1,
   "metadata": {
    "collapsed": false
   },
   "outputs": [
    {
     "name": "stdout",
     "output_type": "stream",
     "text": [
      "1249\n",
      "2500\n",
      "1249\n",
      "2425\n"
     ]
    }
   ],
   "source": [
    "import os\n",
    "import json\n",
    "\n",
    "val = json.load(open('cocofinal_val.json', 'r'))\n",
    "train = json.load(open('cocofinal_train.json', 'r'))\n",
    "test = json.load(open('cocofinal_test.json', 'r'))\n",
    "#captions = json.load(open('coco_vqg_raw_captions.json', 'r'))\n",
    "print len(test)\n",
    "print len(train)\n",
    "print len(val)\n",
    "       # train    if(not(k==438 or k==1176 or k==1505 or k==1615 or k==1829 or k==2131)):\n",
    "\n",
    "print 1249+1176    \n"
   ]
  },
  {
   "cell_type": "code",
   "execution_count": 2,
   "metadata": {
    "collapsed": false
   },
   "outputs": [
    {
     "ename": "IndentationError",
     "evalue": "expected an indented block (<ipython-input-2-b23580f43789>, line 17)",
     "output_type": "error",
     "traceback": [
      "\u001b[0;36m  File \u001b[0;32m\"<ipython-input-2-b23580f43789>\"\u001b[0;36m, line \u001b[0;32m17\u001b[0m\n\u001b[0;31m    \u001b[0m\n\u001b[0m    ^\u001b[0m\n\u001b[0;31mIndentationError\u001b[0m\u001b[0;31m:\u001b[0m expected an indented block\n"
     ]
    }
   ],
   "source": [
    "# print test[1249]['questions'][0]\n",
    "#print train[0]['questions'][2]\n",
    "#print val[0]['questions'][4]\n",
    "#print test[0]['captions'][1]\n",
    "#print train[0]['captions'][2]\n",
    "#print val[0]['captions'][4]\n",
    "#for i in range(0,5):\n",
    "    #print train[0]['questions'][i]\n",
    "    #print train[0]['captions'][i]\n",
    "imgs = val+train    \n",
    "for k in range(0,len(imgs)):\n",
    "    for i in (0,1,2,3,4):\n",
    "            #print k,i\n",
    "#             print imgs[k]['questions'][i]\n",
    "            if(not(k==46 or k==324 or k==330 or k==342 or k==417 or k==878 or k==923 or k==1687 or k==1176+1249 or k==1505+1249 or k==1615+1249 or k==1829+1249 or k==2131+1249 )):\n",
    "               #print imgs[k]['questions'][i]\n",
    "    "
   ]
  },
  {
   "cell_type": "code",
   "execution_count": 1,
   "metadata": {
    "collapsed": false
   },
   "outputs": [
    {
     "ename": "NameError",
     "evalue": "name 'val' is not defined",
     "output_type": "error",
     "traceback": [
      "\u001b[0;31m---------------------------------------------------------------------------\u001b[0m",
      "\u001b[0;31mNameError\u001b[0m                                 Traceback (most recent call last)",
      "\u001b[0;32m<ipython-input-1-8ba1d4ee743c>\u001b[0m in \u001b[0;36m<module>\u001b[0;34m()\u001b[0m\n\u001b[0;32m----> 1\u001b[0;31m \u001b[0mimgs\u001b[0m \u001b[0;34m=\u001b[0m \u001b[0mval\u001b[0m\u001b[0;34m\u001b[0m\u001b[0m\n\u001b[0m\u001b[1;32m      2\u001b[0m \u001b[0mimgid\u001b[0m\u001b[0;34m=\u001b[0m \u001b[0mtrain\u001b[0m\u001b[0;34m[\u001b[0m\u001b[0;36m0\u001b[0m\u001b[0;34m]\u001b[0m\u001b[0;34m[\u001b[0m\u001b[0;34m'id'\u001b[0m\u001b[0;34m]\u001b[0m\u001b[0;34m\u001b[0m\u001b[0m\n\u001b[1;32m      3\u001b[0m \u001b[0mquesid\u001b[0m \u001b[0;34m=\u001b[0m \u001b[0mint\u001b[0m\u001b[0;34m(\u001b[0m\u001b[0mstr\u001b[0m\u001b[0;34m(\u001b[0m\u001b[0mimgid\u001b[0m\u001b[0;34m)\u001b[0m \u001b[0;34m+\u001b[0m \u001b[0mstr\u001b[0m\u001b[0;34m(\u001b[0m\u001b[0;36m1\u001b[0m\u001b[0;34m)\u001b[0m\u001b[0;34m)\u001b[0m\u001b[0;34m\u001b[0m\u001b[0m\n\u001b[1;32m      4\u001b[0m \u001b[0mques_cap_id\u001b[0m \u001b[0;34m=\u001b[0m \u001b[0mint\u001b[0m\u001b[0;34m(\u001b[0m\u001b[0mstr\u001b[0m\u001b[0;34m(\u001b[0m\u001b[0mquesid\u001b[0m\u001b[0;34m)\u001b[0m \u001b[0;34m+\u001b[0m \u001b[0mstr\u001b[0m\u001b[0;34m(\u001b[0m\u001b[0;36m1\u001b[0m\u001b[0;34m)\u001b[0m\u001b[0;34m)\u001b[0m\u001b[0;34m\u001b[0m\u001b[0m\n\u001b[1;32m      5\u001b[0m \u001b[0;32mprint\u001b[0m \u001b[0mimgid\u001b[0m\u001b[0;34m,\u001b[0m \u001b[0mquesid\u001b[0m\u001b[0;34m,\u001b[0m \u001b[0mques_cap_id\u001b[0m\u001b[0;34m\u001b[0m\u001b[0m\n",
      "\u001b[0;31mNameError\u001b[0m: name 'val' is not defined"
     ]
    }
   ],
   "source": [
    "imgs = val\n",
    "imgid= train[0]['id']\n",
    "quesid = int(str(imgid) + str(1))\n",
    "ques_cap_id = int(str(quesid) + str(1))\n",
    "print imgid, quesid, ques_cap_id  \n",
    "out = []\n",
    "\n",
    "for k in range(0,len(imgs)):\n",
    "    \n",
    "    for i in (0,1,2,3,4):\n",
    "        #out.append(jimg)    \n",
    "            for j in (0,1,2,3,4):\n",
    "                jimg = {}\n",
    "                img_id = imgs[k]['id']\n",
    "                img_path = imgs[k]['file_path']\n",
    "                jimg['file_path'] = img_path\n",
    "                jimg['img_id'] = img_id\n",
    "                ques_id = int(str(img_id) + str(i+1))\n",
    "                jimg['ques_id'] = ques_id\n",
    "                if(i==4  and (k==46 or k==324 or k==330 or k==342 or k==417 or k==878 or k==923)):\n",
    "                    ques = imgs[k]['questions'][3]\n",
    "                    jimg['question'] = ques\n",
    "                else:\n",
    "                    print k\n",
    "                    ques = imgs[k]['questions'][i]\n",
    "                    jimg['question'] = ques\n",
    "                #    print ques,ques_id\n",
    "                ques_cap_id = int(str(ques_id) + str(j+1))\n",
    "                jimg['ques_cap_id'] = ques_cap_id\n",
    "                capt = imgs[k]['captions'][j]\n",
    "                jimg['caption'] = capt\n",
    "                #print capt,ques_cap_id\n",
    "                #print \"***\" , jimg['ques_cap_id']\n",
    "                #print \"$$\" , ques_cap_id\n",
    "                #print \"---\",jimg\n",
    "                out.append(jimg)\n",
    "\n",
    "# json.dump(out, open('cocoAaai_attention_train.json', 'w'))\n",
    "\n",
    "print out[5]\n",
    "print len(out)"
   ]
  },
  {
   "cell_type": "code",
   "execution_count": null,
   "metadata": {
    "collapsed": true
   },
   "outputs": [],
   "source": []
  }
 ],
 "metadata": {
  "kernelspec": {
   "display_name": "Python 2",
   "language": "python",
   "name": "python2"
  },
  "language_info": {
   "codemirror_mode": {
    "name": "ipython",
    "version": 2
   },
   "file_extension": ".py",
   "mimetype": "text/x-python",
   "name": "python",
   "nbconvert_exporter": "python",
   "pygments_lexer": "ipython2",
   "version": "2.7.6"
  }
 },
 "nbformat": 4,
 "nbformat_minor": 2
}
