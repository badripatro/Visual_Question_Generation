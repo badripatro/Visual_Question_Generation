{
 "cells": [
  {
   "cell_type": "code",
   "execution_count": 6,
   "metadata": {
    "collapsed": false
   },
   "outputs": [
    {
     "name": "stdout",
     "output_type": "stream",
     "text": [
      "1249\n",
      "2500\n",
      "1249\n"
     ]
    }
   ],
   "source": [
    "import os\n",
    "import json\n",
    "\n",
    "val = json.load(open('coco_vqg_raw_val.json', 'r'))\n",
    "train = json.load(open('coco_vqg_raw_train.json', 'r'))\n",
    "test = json.load(open('coco_vqg_raw_test.json', 'r'))\n",
    "captions = json.load(open('coco_vqg_raw_captions.json', 'r'))\n",
    "print len(test)\n",
    "print len(train)\n",
    "print len(val)\n",
    "\n"
   ]
  },
  {
   "cell_type": "code",
   "execution_count": 7,
   "metadata": {
    "collapsed": false
   },
   "outputs": [
    {
     "name": "stdout",
     "output_type": "stream",
     "text": [
      "[u'A man with a red helmet on a small moped on a dirt road. ', u'Man riding a motor bike on a dirt road on the countryside.', u'A man riding on the back of a motorcycle.', u'A dirt path with a young person on a motor bike rests to the foreground of a verdant area with a bridge and a background of cloud-wreathed mountains. ', u'A man in a red shirt and a red hat is on a motorcycle on a hill side.']\n",
      "[u'Would you use that purse?', u'Who made that bag?', u'I wonder if she made that bag?', u'Are you really keeping that?', u'Where did you find that pink purse?']\n",
      "[u'What is she drinking?', u'What are you drinking?', u'What is her name?', u'What is this person drinking?', u'Who is she?']\n",
      "[u'Is this train still operating today?', u'What year was this train manufactured?', u'Where is the train going?', u'Where was the steam train headed?', u'Where is the train going?']\n"
     ]
    }
   ],
   "source": [
    "print captions[0]['captions']\n",
    "print test[0]['questions'].split(u'---')\n",
    "print train[0]['questions'].split(u'---')\n",
    "print val[0]['questions'].split(u'---')"
   ]
  },
  {
   "cell_type": "code",
   "execution_count": 8,
   "metadata": {
    "collapsed": false
   },
   "outputs": [
    {
     "name": "stdout",
     "output_type": "stream",
     "text": [
      "1249\n",
      "{'captions': [u'A train traveling down tracks near a tree filled forest.', u'A train with a large, black engine locomotive, heading down the track while it blows out steam.', u'Smoke is coming out of a train engine on the tracks.', u'an old steam engine barrels down the tracks towards the camera', u'A train on the tracks that has smoke coming out the top.'], 'file_path': 'train2014/COCO_train2014_000000519601.jpg', 'questions': [u'Is this train still operating today?', u'What year was this train manufactured?', u'Where is the train going?', u'Where was the steam train headed?', u'Where is the train going?'], 'id': 519601}\n",
      "1249\n"
     ]
    }
   ],
   "source": [
    "imgs = val\n",
    "#print imgs[0]['questions']\n",
    "out=[]\n",
    "length= len(imgs)\n",
    "print length\n",
    "for i in range(0,length):\n",
    "    imgid = imgs[i]['image_id']\n",
    "    for j in range(0,len(captions)):\n",
    "        if captions[j]['id'] == imgid:\n",
    "            capt = captions[j]['captions']\n",
    "    ques = imgs[i]['questions'].split(u'---')\n",
    "    final_imgid = \"COCO_train2014_{0:012d}.jpg\".format(imgid)\n",
    "    #print capt\n",
    "    #loc = 'sab'\n",
    "    loc = 'train2014/'\n",
    "\n",
    "    jimg = {}\n",
    "    jimg['captions'] = capt\n",
    "    jimg['questions'] = ques\n",
    "    jimg['file_path'] = os.path.join(loc, final_imgid)\n",
    "    jimg['id'] = imgid    \n",
    "    #sent= []\n",
    "    #sent.append(ques)\n",
    "    out.append(jimg)\n",
    "#out.append('}')\n",
    "#print capt\n",
    "json.dump(out, open('cocofinal_val.json', 'w'))\n",
    "\n",
    "print out[0]    \n",
    "print len(out)\n"
   ]
  },
  {
   "cell_type": "code",
   "execution_count": 9,
   "metadata": {
    "collapsed": false
   },
   "outputs": [
    {
     "name": "stdout",
     "output_type": "stream",
     "text": [
      "hello\n"
     ]
    }
   ],
   "source": [
    "print 'hello'"
   ]
  },
  {
   "cell_type": "code",
   "execution_count": null,
   "metadata": {
    "collapsed": true
   },
   "outputs": [],
   "source": []
  }
 ],
 "metadata": {
  "kernelspec": {
   "display_name": "Python 2",
   "language": "python",
   "name": "python2"
  },
  "language_info": {
   "codemirror_mode": {
    "name": "ipython",
    "version": 2
   },
   "file_extension": ".py",
   "mimetype": "text/x-python",
   "name": "python",
   "nbconvert_exporter": "python",
   "pygments_lexer": "ipython2",
   "version": "2.7.6"
  }
 },
 "nbformat": 4,
 "nbformat_minor": 2
}
